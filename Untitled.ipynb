{
 "cells": [
  {
   "cell_type": "code",
   "execution_count": 1,
   "metadata": {},
   "outputs": [],
   "source": [
    "import merylLookupSuite as me"
   ]
  },
  {
   "cell_type": "code",
   "execution_count": 2,
   "metadata": {},
   "outputs": [
    {
     "name": "stdout",
     "output_type": "stream",
     "text": [
      "contig tig1\n",
      "contig tig2\n",
      "contig tig3\n",
      "contig tig4\n",
      "contig tig5\n",
      "done!\n"
     ]
    }
   ],
   "source": [
    "me.merylLookupWigToBedBinned(\"prova.wig\",\"prova.bed\",5)"
   ]
  },
  {
   "cell_type": "markdown",
   "metadata": {},
   "source": [
    "me.merylLookupBedProcessing(\"prova_cl_b5.bed\",\"prova_cl_b5.csv\")"
   ]
  },
  {
   "cell_type": "code",
   "execution_count": 2,
   "metadata": {},
   "outputs": [
    {
     "name": "stdout",
     "output_type": "stream",
     "text": [
      "found contig  tig1\n",
      "found contig  tig2\n",
      "found contig  tig3\n",
      "found contig  tig4\n",
      "found contig  tig5\n",
      "done!\n"
     ]
    }
   ],
   "source": [
    "me.merylLookupBedProcessing(\"prova_cl_b5.bed\",\"prova_cl_b5.csv\")"
   ]
  },
  {
   "cell_type": "code",
   "execution_count": null,
   "metadata": {},
   "outputs": [],
   "source": []
  }
 ],
 "metadata": {
  "kernelspec": {
   "display_name": "Python 3",
   "language": "python",
   "name": "python3"
  },
  "language_info": {
   "codemirror_mode": {
    "name": "ipython",
    "version": 3
   },
   "file_extension": ".py",
   "mimetype": "text/x-python",
   "name": "python",
   "nbconvert_exporter": "python",
   "pygments_lexer": "ipython3",
   "version": "3.7.6"
  }
 },
 "nbformat": 4,
 "nbformat_minor": 4
}
